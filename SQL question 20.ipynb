{
 "cells": [
  {
   "cell_type": "markdown",
   "id": "03feef3d",
   "metadata": {},
   "source": [
    "20. Consider a database schema that represents an online bookstore with two tables: books and orders. The books table has columns: book_id, title, author, price, and stock_quantity. The orders table has columns: order_id, book_id, quantity, and order_date.Write an SQL query to find the top 3 bestselling products in terms of total quantity sold, along with their names and total quantities sold. "
   ]
  },
  {
   "cell_type": "code",
   "execution_count": null,
   "id": "175747a3",
   "metadata": {},
   "outputs": [],
   "source": [
    "SELECT\n",
    "    b.title AS ProductName,\n",
    "    SUM(o.quantity) AS TotalQuantitySold\n",
    "FROM\n",
    "    books b\n",
    "JOIN\n",
    "    orders o ON b.book_id = o.book_id\n",
    "GROUP BY\n",
    "    b.book_id, b.title\n",
    "ORDER BY\n",
    "    TotalQuantitySold DESC\n",
    "LIMIT 3;\n"
   ]
  }
 ],
 "metadata": {
  "kernelspec": {
   "display_name": "Python 3 (ipykernel)",
   "language": "python",
   "name": "python3"
  },
  "language_info": {
   "codemirror_mode": {
    "name": "ipython",
    "version": 3
   },
   "file_extension": ".py",
   "mimetype": "text/x-python",
   "name": "python",
   "nbconvert_exporter": "python",
   "pygments_lexer": "ipython3",
   "version": "3.9.7"
  }
 },
 "nbformat": 4,
 "nbformat_minor": 5
}
