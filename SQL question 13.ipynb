{
 "cells": [
  {
   "cell_type": "markdown",
   "id": "f06acc45",
   "metadata": {},
   "source": [
    "13.Write an SQL query to retrieve the names and addresses of all persons from the \"Person\" table along with their corresponding addresses from the \"Address\" table."
   ]
  },
  {
   "cell_type": "code",
   "execution_count": null,
   "id": "61170be4",
   "metadata": {},
   "outputs": [],
   "source": [
    "SELECT Person.Name, Address.Address\n",
    "FROM Person\n",
    "JOIN Address ON Person.AddressID = Address.ID;\n"
   ]
  }
 ],
 "metadata": {
  "kernelspec": {
   "display_name": "Python 3 (ipykernel)",
   "language": "python",
   "name": "python3"
  },
  "language_info": {
   "codemirror_mode": {
    "name": "ipython",
    "version": 3
   },
   "file_extension": ".py",
   "mimetype": "text/x-python",
   "name": "python",
   "nbconvert_exporter": "python",
   "pygments_lexer": "ipython3",
   "version": "3.9.7"
  }
 },
 "nbformat": 4,
 "nbformat_minor": 5
}
