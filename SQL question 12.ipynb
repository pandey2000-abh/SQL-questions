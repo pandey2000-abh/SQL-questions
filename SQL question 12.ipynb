{
 "cells": [
  {
   "cell_type": "markdown",
   "id": "d69ab6bc",
   "metadata": {},
   "source": [
    "12.  Write an SQL query to find the youngest student in the \"student\" table ?"
   ]
  },
  {
   "cell_type": "code",
   "execution_count": null,
   "id": "5e1380b8",
   "metadata": {},
   "outputs": [],
   "source": [
    "SELECT *\n",
    "FROM student\n",
    "ORDER BY age ASC\n",
    "LIMIT 1;\n"
   ]
  }
 ],
 "metadata": {
  "kernelspec": {
   "display_name": "Python 3 (ipykernel)",
   "language": "python",
   "name": "python3"
  },
  "language_info": {
   "codemirror_mode": {
    "name": "ipython",
    "version": 3
   },
   "file_extension": ".py",
   "mimetype": "text/x-python",
   "name": "python",
   "nbconvert_exporter": "python",
   "pygments_lexer": "ipython3",
   "version": "3.9.7"
  }
 },
 "nbformat": 4,
 "nbformat_minor": 5
}
