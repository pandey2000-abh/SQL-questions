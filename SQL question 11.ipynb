{
 "cells": [
  {
   "cell_type": "markdown",
   "id": "894db633",
   "metadata": {},
   "source": [
    "11. Create Student Table with ID as Primary Key and NOT NULL , Name as 20 Characters ,Age as Int value both are NOT NULL and Address have  25 charter And Insert Any 5 Records?  "
   ]
  },
  {
   "cell_type": "markdown",
   "id": "85feb3c7",
   "metadata": {},
   "source": [
    "\n",
    "CREATE TABLE Student (\n",
    "    ID INT PRIMARY KEY NOT NULL,\n",
    "    Name VARCHAR(20) NOT NULL,\n",
    "    Age INT NOT NULL,\n",
    "    Address VARCHAR(25),\n",
    ");\n",
    "\n",
    "\n",
    "INSERT INTO Student (ID, Name, Age, Address)\n",
    "VALUES\n",
    "    (1, 'John Doe', 20, '123 Main St'),\n",
    "    (2, 'Jane Smith', 22, '456 Elm St'),\n",
    "    (3, 'Michael Johnson', 21, '789 Oak St'),\n",
    "    (4, 'Emily Brown', 19, '555 Pine St'),\n",
    "    (5, 'William Davis', 23, '777 Maple St');\n"
   ]
  }
 ],
 "metadata": {
  "kernelspec": {
   "display_name": "Python 3 (ipykernel)",
   "language": "python",
   "name": "python3"
  },
  "language_info": {
   "codemirror_mode": {
    "name": "ipython",
    "version": 3
   },
   "file_extension": ".py",
   "mimetype": "text/x-python",
   "name": "python",
   "nbconvert_exporter": "python",
   "pygments_lexer": "ipython3",
   "version": "3.9.7"
  }
 },
 "nbformat": 4,
 "nbformat_minor": 5
}
