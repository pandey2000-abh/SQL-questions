{
 "cells": [
  {
   "cell_type": "markdown",
   "id": "63036871",
   "metadata": {},
   "source": [
    " 19.Consider a database with two tables: \"Orders\" and \"Customers.\" Write an SQL query to retrieve the top 5 customers who have made the most orders, along with the total count of their orders. Display the results in descending order of the order count and ascending order of customer names."
   ]
  },
  {
   "cell_type": "code",
   "execution_count": null,
   "id": "da779a4d",
   "metadata": {},
   "outputs": [],
   "source": [
    "SELECT\n",
    "    c.CustomerName,\n",
    "    COUNT(o.OrderID) AS OrderCount\n",
    "FROM\n",
    "    Customers c\n",
    "JOIN\n",
    "    Orders o ON c.CustomerID = o.CustomerID\n",
    "GROUP BY\n",
    "    c.CustomerName\n",
    "ORDER BY\n",
    "    OrderCount DESC, c.CustomerName ASC\n",
    "LIMIT 5;\n"
   ]
  }
 ],
 "metadata": {
  "kernelspec": {
   "display_name": "Python 3 (ipykernel)",
   "language": "python",
   "name": "python3"
  },
  "language_info": {
   "codemirror_mode": {
    "name": "ipython",
    "version": 3
   },
   "file_extension": ".py",
   "mimetype": "text/x-python",
   "name": "python",
   "nbconvert_exporter": "python",
   "pygments_lexer": "ipython3",
   "version": "3.9.7"
  }
 },
 "nbformat": 4,
 "nbformat_minor": 5
}
