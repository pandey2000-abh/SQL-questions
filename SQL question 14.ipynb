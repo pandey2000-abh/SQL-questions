{
 "cells": [
  {
   "cell_type": "markdown",
   "id": "d306d08a",
   "metadata": {},
   "source": [
    "14.Write an SQL query to fetch the second highest number from the \"student\" table.?"
   ]
  },
  {
   "cell_type": "code",
   "execution_count": null,
   "id": "f9e168a7",
   "metadata": {},
   "outputs": [],
   "source": [
    "SELECT DISTINCT column_name\n",
    "FROM student\n",
    "ORDER BY column_name DESC\n",
    "LIMIT 1 OFFSET 1;\n"
   ]
  }
 ],
 "metadata": {
  "kernelspec": {
   "display_name": "Python 3 (ipykernel)",
   "language": "python",
   "name": "python3"
  },
  "language_info": {
   "codemirror_mode": {
    "name": "ipython",
    "version": 3
   },
   "file_extension": ".py",
   "mimetype": "text/x-python",
   "name": "python",
   "nbconvert_exporter": "python",
   "pygments_lexer": "ipython3",
   "version": "3.9.7"
  }
 },
 "nbformat": 4,
 "nbformat_minor": 5
}
