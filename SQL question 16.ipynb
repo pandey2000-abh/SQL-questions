{
 "cells": [
  {
   "cell_type": "markdown",
   "id": "0165a01e",
   "metadata": {},
   "source": [
    " 16. Write a SQL query to find the median salary of each company.?"
   ]
  },
  {
   "cell_type": "code",
   "execution_count": null,
   "id": "2d047271",
   "metadata": {},
   "outputs": [],
   "source": [
    "SELECT Company, \n",
    "       CASE \n",
    "           WHEN COUNT(*) % 2 = 1 THEN \n",
    "               MAX(Salary) \n",
    "               FILTER (WHERE row_number = COUNT(*) / 2 + 1) \n",
    "           ELSE \n",
    "               AVG(Salary) \n",
    "               FILTER (WHERE row_number = COUNT(*) / 2) \n",
    "       END AS MedianSalary\n",
    "FROM (\n",
    "    SELECT Company, \n",
    "           Salary, \n",
    "           ROW_NUMBER() OVER (PARTITION BY Company ORDER BY Salary) AS row_number, \n",
    "           COUNT(*) OVER (PARTITION BY Company) AS total_count\n",
    "    FROM Employee\n",
    ") ranked\n",
    "GROUP BY Company, total_count;\n"
   ]
  }
 ],
 "metadata": {
  "kernelspec": {
   "display_name": "Python 3 (ipykernel)",
   "language": "python",
   "name": "python3"
  },
  "language_info": {
   "codemirror_mode": {
    "name": "ipython",
    "version": 3
   },
   "file_extension": ".py",
   "mimetype": "text/x-python",
   "name": "python",
   "nbconvert_exporter": "python",
   "pygments_lexer": "ipython3",
   "version": "3.9.7"
  }
 },
 "nbformat": 4,
 "nbformat_minor": 5
}
