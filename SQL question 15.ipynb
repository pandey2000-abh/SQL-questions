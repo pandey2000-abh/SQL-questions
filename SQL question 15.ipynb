{
 "cells": [
  {
   "cell_type": "markdown",
   "id": "35511ff0",
   "metadata": {},
   "source": [
    "15.SQL Quary to get the nth highest salary from Employee table "
   ]
  },
  {
   "cell_type": "code",
   "execution_count": null,
   "id": "d48b99dd",
   "metadata": {},
   "outputs": [],
   "source": [
    "SELECT DISTINCT Salary\n",
    "FROM Employee\n",
    "ORDER BY Salary DESC\n",
    "LIMIT 1 OFFSET n-1;\n"
   ]
  }
 ],
 "metadata": {
  "kernelspec": {
   "display_name": "Python 3 (ipykernel)",
   "language": "python",
   "name": "python3"
  },
  "language_info": {
   "codemirror_mode": {
    "name": "ipython",
    "version": 3
   },
   "file_extension": ".py",
   "mimetype": "text/x-python",
   "name": "python",
   "nbconvert_exporter": "python",
   "pygments_lexer": "ipython3",
   "version": "3.9.7"
  }
 },
 "nbformat": 4,
 "nbformat_minor": 5
}
