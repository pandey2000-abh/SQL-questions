{
 "cells": [
  {
   "cell_type": "markdown",
   "id": "a512af4b",
   "metadata": {},
   "source": [
    "17. Write a SQL to get the cumulative sum of an employee’s salary over a period of 3 month but exclude the most recent month? The result should be display by id ascending and then by month decending ? "
   ]
  },
  {
   "cell_type": "code",
   "execution_count": null,
   "id": "ccd24837",
   "metadata": {},
   "outputs": [],
   "source": [
    "WITH RankedSalaries AS (\n",
    "    SELECT\n",
    "        ID,\n",
    "        Salary,\n",
    "        Month,\n",
    "        ROW_NUMBER() OVER (PARTITION BY ID ORDER BY Month DESC) AS row_num\n",
    "    FROM Employee\n",
    ")\n",
    "SELECT\n",
    "    rs.ID,\n",
    "    rs.Month,\n",
    "    SUM(rs.Salary) OVER (PARTITION BY rs.ID ORDER BY rs.Month ROWS BETWEEN 2 PRECEDING AND 1 PRECEDING) AS CumulativeSum\n",
    "FROM RankedSalaries rs\n",
    "WHERE rs.row_num = 1\n",
    "ORDER BY rs.ID ASC, rs.Month DESC;\n"
   ]
  }
 ],
 "metadata": {
  "kernelspec": {
   "display_name": "Python 3 (ipykernel)",
   "language": "python",
   "name": "python3"
  },
  "language_info": {
   "codemirror_mode": {
    "name": "ipython",
    "version": 3
   },
   "file_extension": ".py",
   "mimetype": "text/x-python",
   "name": "python",
   "nbconvert_exporter": "python",
   "pygments_lexer": "ipython3",
   "version": "3.9.7"
  }
 },
 "nbformat": 4,
 "nbformat_minor": 5
}
